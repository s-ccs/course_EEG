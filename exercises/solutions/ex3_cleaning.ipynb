{
 "cells": [
  {
   "cell_type": "code",
   "execution_count": null,
   "metadata": {},
   "outputs": [],
   "source": [
    "import sys\n",
    "sys.path.insert(0, '..')\n",
    "from mne_bids import (BIDSPath,read_raw_bids)\n",
    "import mne_bids\n",
    "import importlib\n",
    "import mne\n",
    "import ccs_eeg_utils\n",
    "\n",
    "#ccs_eeg_utils.download_erpcore(task=\"P3\",subject=30,localpath=\"../local/bids/\")\n",
    "\n",
    "bids_root = \"../local/bids\"\n",
    "bids_root = \"/bigpool/export/users/ehinger/erp-core/bids\" # Bene's Server location\n",
    "bids_root = \"/store/data/erp-core/\"\n",
    "subject_id = '030'\n",
    "\n",
    "\n",
    "bids_path = BIDSPath(subject=subject_id,task=\"P3\",\n",
    "                     datatype='eeg', suffix='eeg',session=\"P3\",\n",
    "                     root=bids_root)\n",
    "\n",
    "raw = read_raw_bids(bids_path)\n",
    "ccs_eeg_utils.read_annotations_core(bids_path,raw)\n",
    "raw.load_data()\n",
    "raw.filter(0.5,50, fir_design='firwin')"
   ]
  },
  {
   "cell_type": "markdown",
   "metadata": {},
   "source": [
    "**T:** Go through the dataset using the MNE explorer and clean it. You can use `raw.plot()` for this. If you are working from a jupyter notebook, try to use `%matplotlib qt` for better support of the cleaning window. To get an understanding how the tool works, press `help` or type `?` in the window. (Hint: You first have to add a new annotation by pressing `a`)"
   ]
  },
  {
   "cell_type": "code",
   "execution_count": null,
   "metadata": {},
   "outputs": [],
   "source": [
    "%matplotlib qt\n",
    "raw.plot(n_channels=len(raw.ch_names))#,scalings =40e-6)\n",
    "# See below"
   ]
  },
  {
   "cell_type": "code",
   "execution_count": null,
   "metadata": {},
   "outputs": [],
   "source": [
    "bad_ix = [i for i,a in enumerate(raw.annotations) if a['description']==\"BAD_\"]\n",
    "\n",
    "#raw.annotations[bad_ix].save(\"sub-{}_task-P3_badannotations.csv\".format(subject_id))\n",
    "\n",
    "\n",
    "annotations = mne.read_annotations(\"sub-{}_task-P3_badannotations.csv\".format(subject_id))\n",
    "raw.annotations.append(annotations.onset,annotations.duration,annotations.description)\n"
   ]
  },
  {
   "cell_type": "markdown",
   "metadata": {},
   "source": [
    "\n",
    "**T:** While going through the dataset, mark what you observe as bad electrodes. Those are saved in `raw.info['bads']`. The channels can be interpolated with `raw.interpolate_bads()` or `epoch.interpolate_bads()`. Compare the channel + neighbours before and after. Did the interpolation succeed? (If you are interested in the mathematical details of spline interpolation, checkout this https://mne.tools/dev/overview/implementation.html#id26)\n",
    "Hint: You need channel locations to run the interpolation which you can get by using the default-standardized channel locations `raw.set_montage('standard_1020',match_case=False)`"
   ]
  },
  {
   "cell_type": "code",
   "execution_count": null,
   "metadata": {},
   "outputs": [],
   "source": [
    "# I thought there was not really a bad channel in this dataset, so I remove one at random.\n",
    "raw.info['bads'] = ['FP2']\n",
    "# for interpolation\n",
    "raw.set_montage('standard_1020',match_case=False)\n",
    "raw.interpolate_bads()"
   ]
  },
  {
   "cell_type": "markdown",
   "metadata": {},
   "source": [
    "**T:** In the epoching step, we can also specify rejection criterion for a peak-to-peak rejection method"
   ]
  },
  {
   "cell_type": "code",
   "execution_count": null,
   "metadata": {
    "tags": []
   },
   "outputs": [],
   "source": [
    "%matplotlib inline\n",
    "import mne\n",
    "evts,evts_dict = mne.events_from_annotations(raw)\n",
    "wanted_keys = [e for e in evts_dict.keys() if \"stimulus\" in e]\n",
    "evts_dict_stim=dict((k, evts_dict[k]) for k in wanted_keys if k in evts_dict)\n",
    "\n",
    "# get epochs with and without rejection\n",
    "epochs        = mne.Epochs(raw,evts,evts_dict_stim,tmin=-0.1,tmax=1,reject_by_annotation=False)\n",
    "epochs_manual = mne.Epochs(raw,evts,evts_dict_stim,tmin=-0.1,tmax=1,reject_by_annotation=True)\n",
    "reject_criteria = dict(eeg=200e-6,       # 100 µV # HAD TO INCREASE IT HERE, 100 was too harsh\n",
    "                       eog=200e-6)       # 200 µV\n",
    "epochs_thresh = mne.Epochs(raw,evts,evts_dict_stim,tmin=-0.1,tmax=1,reject=reject_criteria,reject_by_annotation=False)\n",
    "\n",
    "#from matplotlib import pyplot as plt\n",
    "# compare\n",
    "#plt.plot([0,:])\n",
    "mne.viz.plot_compare_evokeds({'raw':epochs.average(),'clean':epochs_manual.average(),'thresh':epochs_thresh.average()},picks=\"Cz\")\n"
   ]
  },
  {
   "cell_type": "markdown",
   "metadata": {},
   "source": [
    "## Bonus Tasks!"
   ]
  },
  {
   "cell_type": "code",
   "execution_count": null,
   "metadata": {},
   "outputs": [],
   "source": [
    "from autoreject import AutoReject\n",
    "ar = AutoReject(verbose='tqdm')\n",
    "epochs.load_data()\n",
    "epochs_ar = ar.fit_transform(epochs)  "
   ]
  },
  {
   "cell_type": "code",
   "execution_count": null,
   "metadata": {},
   "outputs": [],
   "source": [
    "r = ar.get_reject_log(epochs_ar)"
   ]
  },
  {
   "cell_type": "code",
   "execution_count": null,
   "metadata": {},
   "outputs": [],
   "source": [
    "r.plot(orientation=\"horizontal\");"
   ]
  },
  {
   "cell_type": "code",
   "execution_count": null,
   "metadata": {},
   "outputs": [],
   "source": [
    "\n",
    "mne.viz.plot_compare_evokeds({\n",
    "    'raw':epochs.average(),\n",
    "    'clean':epochs_manual.average(),\n",
    "    'ar':epochs_ar.average()\n",
    "    },picks=\"Cz\")\n"
   ]
  },
  {
   "cell_type": "code",
   "execution_count": null,
   "metadata": {},
   "outputs": [],
   "source": [
    "from scipy.stats.mstats import winsorize\n",
    "import numpy as np\n",
    "def winsor(d):\n",
    "    return np.mean(winsorize(d,axis=0,limits=(0.2,0.2)),axis=0)\n",
    "def median(d):\n",
    "    return np.median(d,axis=0)\n",
    "\n",
    "mne.viz.plot_compare_evokeds({\n",
    "    'clean':epochs_manual.average(),\n",
    "    'robust':epochs.load_data().average(method=winsor),\n",
    "    'median':epochs.load_data().average(method=median),\n",
    "    },picks=\"Cz\")"
   ]
  },
  {
   "cell_type": "code",
   "execution_count": null,
   "metadata": {},
   "outputs": [],
   "source": [
    "mne.viz.plot_compare_evokeds({\n",
    "    'clean':epochs_manual.average(),\n",
    "    'robust':epochs.average(method=winsor),\n",
    "    'ar':epochs_ar.average()\n",
    "    },picks=\"Cz\")"
   ]
  },
  {
   "cell_type": "code",
   "execution_count": null,
   "metadata": {},
   "outputs": [],
   "source": [
    "%matplotlib inline\n",
    "ylim = dict(eeg=(-20, 20))\n",
    "epochs.average().plot(ylim=ylim, spatial_colors=True);\n",
    "epochs_ar.average().plot(ylim=ylim, spatial_colors=True);\n",
    "epochs_manual.average().plot(ylim=ylim, spatial_colors=True);"
   ]
  }
 ],
 "metadata": {
  "kernelspec": {
   "display_name": "Python 3",
   "language": "python",
   "name": "python3"
  },
  "language_info": {
   "codemirror_mode": {
    "name": "ipython",
    "version": 3
   },
   "file_extension": ".py",
   "mimetype": "text/x-python",
   "name": "python",
   "nbconvert_exporter": "python",
   "pygments_lexer": "ipython3",
   "version": "3.10.12"
  }
 },
 "nbformat": 4,
 "nbformat_minor": 2
}
