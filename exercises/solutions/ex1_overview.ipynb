{
 "cells": [
  {
   "cell_type": "code",
   "execution_count": 2,
   "metadata": {},
   "outputs": [],
   "source": [
    "import sys\n",
    "sys.path.insert(0,'..')\n",
    "import ccs_eeg_utils"
   ]
  },
  {
   "cell_type": "code",
   "execution_count": 3,
   "metadata": {},
   "outputs": [
    {
     "name": "stdout",
     "output_type": "stream",
     "text": [
      "Reading /store/data/erp-core/sub-030/ses-P3/eeg/sub-030_ses-P3_task-P3_eeg.fdt\n"
     ]
    },
    {
     "name": "stderr",
     "output_type": "stream",
     "text": [
      "/tmp/ipykernel_1145118/1487781420.py:18: RuntimeWarning: Data file name in EEG.data (sub-030_task-P3_eeg.fdt) is incorrect, the file name must have changed on disk, using the correct file name (sub-030_ses-P3_task-P3_eeg.fdt).\n",
      "  raw = read_raw_bids(bids_path)\n"
     ]
    },
    {
     "name": "stdout",
     "output_type": "stream",
     "text": [
      "Reading events from /store/data/erp-core/sub-030/ses-P3/eeg/sub-030_ses-P3_task-P3_events.tsv.\n",
      "The event \"response\" refers to multiple event values. Creating hierarchical event names.\n",
      "    Renaming event: response -> response/202\n",
      "    Renaming event: response -> response/202\n",
      "    Renaming event: response -> response/201\n",
      "    Renaming event: response -> response/201\n",
      "    Renaming event: response -> response/201\n",
      "    Renaming event: response -> response/201\n",
      "    Renaming event: response -> response/201\n",
      "    Renaming event: response -> response/201\n",
      "    Renaming event: response -> response/201\n",
      "    Renaming event: response -> response/201\n",
      "    Renaming event: response -> response/201\n",
      "    Renaming event: response -> response/201\n",
      "    Renaming event: response -> response/201\n",
      "    Renaming event: response -> response/201\n",
      "    Renaming event: response -> response/201\n",
      "    Renaming event: response -> response/201\n",
      "    Renaming event: response -> response/201\n",
      "    Renaming event: response -> response/201\n",
      "    Renaming event: response -> response/201\n",
      "    Renaming event: response -> response/201\n",
      "    Renaming event: response -> response/201\n",
      "    Renaming event: response -> response/201\n",
      "    Renaming event: response -> response/201\n",
      "    Renaming event: response -> response/201\n",
      "    Renaming event: response -> response/201\n",
      "    Renaming event: response -> response/201\n",
      "    Renaming event: response -> response/201\n",
      "    Renaming event: response -> response/201\n",
      "    Renaming event: response -> response/201\n",
      "    Renaming event: response -> response/201\n",
      "    Renaming event: response -> response/201\n",
      "    Renaming event: response -> response/201\n",
      "    Renaming event: response -> response/201\n",
      "    Renaming event: response -> response/201\n",
      "    Renaming event: response -> response/201\n",
      "    Renaming event: response -> response/201\n",
      "    Renaming event: response -> response/201\n",
      "    Renaming event: response -> response/201\n",
      "    Renaming event: response -> response/201\n",
      "    Renaming event: response -> response/201\n",
      "    Renaming event: response -> response/201\n",
      "    Renaming event: response -> response/201\n",
      "    Renaming event: response -> response/201\n",
      "    Renaming event: response -> response/201\n",
      "    Renaming event: response -> response/201\n",
      "    Renaming event: response -> response/201\n",
      "    Renaming event: response -> response/201\n",
      "    Renaming event: response -> response/201\n",
      "    Renaming event: response -> response/201\n",
      "    Renaming event: response -> response/201\n",
      "    Renaming event: response -> response/201\n",
      "    Renaming event: response -> response/201\n",
      "    Renaming event: response -> response/201\n",
      "    Renaming event: response -> response/201\n",
      "    Renaming event: response -> response/201\n",
      "    Renaming event: response -> response/201\n",
      "    Renaming event: response -> response/201\n",
      "    Renaming event: response -> response/201\n",
      "    Renaming event: response -> response/201\n",
      "    Renaming event: response -> response/201\n",
      "    Renaming event: response -> response/201\n",
      "    Renaming event: response -> response/201\n",
      "    Renaming event: response -> response/201\n",
      "    Renaming event: response -> response/201\n",
      "    Renaming event: response -> response/201\n",
      "    Renaming event: response -> response/201\n",
      "    Renaming event: response -> response/202\n",
      "    Renaming event: response -> response/201\n",
      "    Renaming event: response -> response/201\n",
      "    Renaming event: response -> response/201\n",
      "    Renaming event: response -> response/201\n",
      "    Renaming event: response -> response/201\n",
      "    Renaming event: response -> response/201\n",
      "    Renaming event: response -> response/201\n",
      "    Renaming event: response -> response/201\n",
      "    Renaming event: response -> response/201\n",
      "    Renaming event: response -> response/201\n",
      "    Renaming event: response -> response/201\n",
      "    Renaming event: response -> response/201\n",
      "    Renaming event: response -> response/201\n",
      "    Renaming event: response -> response/201\n",
      "    Renaming event: response -> response/201\n",
      "    Renaming event: response -> response/201\n",
      "    Renaming event: response -> response/201\n",
      "    Renaming event: response -> response/201\n",
      "    Renaming event: response -> response/201\n",
      "    Renaming event: response -> response/201\n",
      "    Renaming event: response -> response/201\n",
      "    Renaming event: response -> response/201\n",
      "    Renaming event: response -> response/201\n",
      "    Renaming event: response -> response/201\n",
      "    Renaming event: response -> response/201\n",
      "    Renaming event: response -> response/201\n",
      "    Renaming event: response -> response/201\n",
      "    Renaming event: response -> response/201\n",
      "    Renaming event: response -> response/201\n",
      "    Renaming event: response -> response/202\n",
      "    Renaming event: response -> response/201\n",
      "    Renaming event: response -> response/201\n",
      "    Renaming event: response -> response/201\n",
      "    Renaming event: response -> response/201\n",
      "    Renaming event: response -> response/201\n",
      "    Renaming event: response -> response/201\n",
      "    Renaming event: response -> response/202\n",
      "    Renaming event: response -> response/201\n",
      "    Renaming event: response -> response/201\n",
      "    Renaming event: response -> response/201\n",
      "    Renaming event: response -> response/201\n",
      "    Renaming event: response -> response/201\n",
      "    Renaming event: response -> response/201\n",
      "    Renaming event: response -> response/201\n",
      "    Renaming event: response -> response/201\n",
      "    Renaming event: response -> response/201\n",
      "    Renaming event: response -> response/201\n",
      "    Renaming event: response -> response/201\n",
      "    Renaming event: response -> response/201\n",
      "    Renaming event: response -> response/201\n",
      "    Renaming event: response -> response/201\n",
      "    Renaming event: response -> response/201\n",
      "    Renaming event: response -> response/201\n",
      "    Renaming event: response -> response/201\n",
      "    Renaming event: response -> response/201\n",
      "    Renaming event: response -> response/201\n",
      "    Renaming event: response -> response/201\n",
      "    Renaming event: response -> response/201\n",
      "    Renaming event: response -> response/201\n",
      "    Renaming event: response -> response/201\n",
      "    Renaming event: response -> response/201\n",
      "    Renaming event: response -> response/201\n",
      "    Renaming event: response -> response/201\n",
      "    Renaming event: response -> response/201\n",
      "    Renaming event: response -> response/201\n",
      "    Renaming event: response -> response/201\n",
      "    Renaming event: response -> response/201\n",
      "    Renaming event: response -> response/201\n",
      "    Renaming event: response -> response/201\n",
      "    Renaming event: response -> response/201\n",
      "    Renaming event: response -> response/201\n",
      "    Renaming event: response -> response/201\n",
      "    Renaming event: response -> response/201\n",
      "    Renaming event: response -> response/201\n",
      "    Renaming event: response -> response/201\n",
      "    Renaming event: response -> response/201\n",
      "    Renaming event: response -> response/201\n",
      "    Renaming event: response -> response/201\n",
      "    Renaming event: response -> response/201\n",
      "    Renaming event: response -> response/201\n",
      "    Renaming event: response -> response/201\n",
      "    Renaming event: response -> response/201\n",
      "    Renaming event: response -> response/201\n",
      "    Renaming event: response -> response/201\n",
      "    Renaming event: response -> response/202\n",
      "    Renaming event: response -> response/201\n",
      "    Renaming event: response -> response/201\n",
      "    Renaming event: response -> response/201\n",
      "    Renaming event: response -> response/201\n",
      "    Renaming event: response -> response/201\n",
      "    Renaming event: response -> response/201\n",
      "    Renaming event: response -> response/201\n",
      "    Renaming event: response -> response/201\n",
      "    Renaming event: response -> response/201\n",
      "    Renaming event: response -> response/201\n",
      "    Renaming event: response -> response/201\n",
      "    Renaming event: response -> response/201\n",
      "    Renaming event: response -> response/201\n",
      "    Renaming event: response -> response/201\n",
      "    Renaming event: response -> response/201\n",
      "    Renaming event: response -> response/201\n",
      "    Renaming event: response -> response/201\n",
      "    Renaming event: response -> response/201\n",
      "    Renaming event: response -> response/201\n",
      "    Renaming event: response -> response/201\n",
      "    Renaming event: response -> response/201\n",
      "    Renaming event: response -> response/201\n",
      "    Renaming event: response -> response/201\n",
      "    Renaming event: response -> response/201\n",
      "    Renaming event: response -> response/201\n",
      "    Renaming event: response -> response/201\n",
      "    Renaming event: response -> response/202\n",
      "    Renaming event: response -> response/201\n",
      "    Renaming event: response -> response/201\n",
      "    Renaming event: response -> response/201\n",
      "    Renaming event: response -> response/201\n",
      "    Renaming event: response -> response/201\n",
      "    Renaming event: response -> response/201\n",
      "    Renaming event: response -> response/201\n",
      "    Renaming event: response -> response/201\n",
      "    Renaming event: response -> response/202\n",
      "    Renaming event: response -> response/202\n",
      "    Renaming event: response -> response/201\n",
      "    Renaming event: response -> response/201\n",
      "    Renaming event: response -> response/201\n",
      "    Renaming event: response -> response/201\n",
      "    Renaming event: response -> response/201\n",
      "    Renaming event: response -> response/201\n",
      "    Renaming event: response -> response/201\n",
      "    Renaming event: response -> response/201\n",
      "    Renaming event: response -> response/201\n",
      "    Renaming event: response -> response/201\n",
      "    Renaming event: response -> response/201\n",
      "    Renaming event: response -> response/201\n",
      "    Renaming event: response -> response/201\n",
      "The event \"stimulus\" refers to multiple event values. Creating hierarchical event names.\n",
      "    Renaming event: stimulus -> stimulus/31\n",
      "    Renaming event: stimulus -> stimulus/31\n",
      "    Renaming event: stimulus -> stimulus/35\n",
      "    Renaming event: stimulus -> stimulus/33\n",
      "    Renaming event: stimulus -> stimulus/32\n",
      "    Renaming event: stimulus -> stimulus/33\n",
      "    Renaming event: stimulus -> stimulus/35\n",
      "    Renaming event: stimulus -> stimulus/32\n",
      "    Renaming event: stimulus -> stimulus/32\n",
      "    Renaming event: stimulus -> stimulus/35\n",
      "    Renaming event: stimulus -> stimulus/33\n",
      "    Renaming event: stimulus -> stimulus/32\n",
      "    Renaming event: stimulus -> stimulus/32\n",
      "    Renaming event: stimulus -> stimulus/31\n",
      "    Renaming event: stimulus -> stimulus/35\n",
      "    Renaming event: stimulus -> stimulus/34\n",
      "    Renaming event: stimulus -> stimulus/34\n",
      "    Renaming event: stimulus -> stimulus/32\n",
      "    Renaming event: stimulus -> stimulus/33\n",
      "    Renaming event: stimulus -> stimulus/31\n",
      "    Renaming event: stimulus -> stimulus/34\n",
      "    Renaming event: stimulus -> stimulus/32\n",
      "    Renaming event: stimulus -> stimulus/35\n",
      "    Renaming event: stimulus -> stimulus/31\n",
      "    Renaming event: stimulus -> stimulus/35\n",
      "    Renaming event: stimulus -> stimulus/32\n",
      "    Renaming event: stimulus -> stimulus/31\n",
      "    Renaming event: stimulus -> stimulus/35\n",
      "    Renaming event: stimulus -> stimulus/31\n",
      "    Renaming event: stimulus -> stimulus/35\n",
      "    Renaming event: stimulus -> stimulus/33\n",
      "    Renaming event: stimulus -> stimulus/32\n",
      "    Renaming event: stimulus -> stimulus/33\n",
      "    Renaming event: stimulus -> stimulus/31\n",
      "    Renaming event: stimulus -> stimulus/33\n",
      "    Renaming event: stimulus -> stimulus/35\n",
      "    Renaming event: stimulus -> stimulus/34\n",
      "    Renaming event: stimulus -> stimulus/33\n",
      "    Renaming event: stimulus -> stimulus/32\n",
      "    Renaming event: stimulus -> stimulus/35\n",
      "    Renaming event: stimulus -> stimulus/22\n",
      "    Renaming event: stimulus -> stimulus/21\n",
      "    Renaming event: stimulus -> stimulus/23\n",
      "    Renaming event: stimulus -> stimulus/25\n",
      "    Renaming event: stimulus -> stimulus/25\n",
      "    Renaming event: stimulus -> stimulus/23\n",
      "    Renaming event: stimulus -> stimulus/22\n",
      "    Renaming event: stimulus -> stimulus/23\n",
      "    Renaming event: stimulus -> stimulus/22\n",
      "    Renaming event: stimulus -> stimulus/23\n",
      "    Renaming event: stimulus -> stimulus/25\n",
      "    Renaming event: stimulus -> stimulus/23\n",
      "    Renaming event: stimulus -> stimulus/21\n",
      "    Renaming event: stimulus -> stimulus/25\n",
      "    Renaming event: stimulus -> stimulus/23\n",
      "    Renaming event: stimulus -> stimulus/25\n",
      "    Renaming event: stimulus -> stimulus/23\n",
      "    Renaming event: stimulus -> stimulus/25\n",
      "    Renaming event: stimulus -> stimulus/23\n",
      "    Renaming event: stimulus -> stimulus/24\n",
      "    Renaming event: stimulus -> stimulus/25\n",
      "    Renaming event: stimulus -> stimulus/21\n",
      "    Renaming event: stimulus -> stimulus/21\n",
      "    Renaming event: stimulus -> stimulus/25\n",
      "    Renaming event: stimulus -> stimulus/22\n",
      "    Renaming event: stimulus -> stimulus/25\n",
      "    Renaming event: stimulus -> stimulus/22\n",
      "    Renaming event: stimulus -> stimulus/24\n",
      "    Renaming event: stimulus -> stimulus/25\n",
      "    Renaming event: stimulus -> stimulus/24\n",
      "    Renaming event: stimulus -> stimulus/21\n",
      "    Renaming event: stimulus -> stimulus/21\n",
      "    Renaming event: stimulus -> stimulus/22\n",
      "    Renaming event: stimulus -> stimulus/23\n",
      "    Renaming event: stimulus -> stimulus/23\n",
      "    Renaming event: stimulus -> stimulus/25\n",
      "    Renaming event: stimulus -> stimulus/22\n",
      "    Renaming event: stimulus -> stimulus/22\n",
      "    Renaming event: stimulus -> stimulus/23\n",
      "    Renaming event: stimulus -> stimulus/23\n",
      "    Renaming event: stimulus -> stimulus/11\n",
      "    Renaming event: stimulus -> stimulus/13\n",
      "    Renaming event: stimulus -> stimulus/14\n",
      "    Renaming event: stimulus -> stimulus/15\n",
      "    Renaming event: stimulus -> stimulus/12\n",
      "    Renaming event: stimulus -> stimulus/13\n",
      "    Renaming event: stimulus -> stimulus/14\n",
      "    Renaming event: stimulus -> stimulus/14\n",
      "    Renaming event: stimulus -> stimulus/14\n",
      "    Renaming event: stimulus -> stimulus/15\n",
      "    Renaming event: stimulus -> stimulus/13\n",
      "    Renaming event: stimulus -> stimulus/13\n",
      "    Renaming event: stimulus -> stimulus/15\n",
      "    Renaming event: stimulus -> stimulus/12\n",
      "    Renaming event: stimulus -> stimulus/11\n",
      "    Renaming event: stimulus -> stimulus/15\n",
      "    Renaming event: stimulus -> stimulus/14\n",
      "    Renaming event: stimulus -> stimulus/14\n",
      "    Renaming event: stimulus -> stimulus/11\n",
      "    Renaming event: stimulus -> stimulus/11\n",
      "    Renaming event: stimulus -> stimulus/14\n",
      "    Renaming event: stimulus -> stimulus/11\n",
      "    Renaming event: stimulus -> stimulus/15\n",
      "    Renaming event: stimulus -> stimulus/15\n",
      "    Renaming event: stimulus -> stimulus/11\n",
      "    Renaming event: stimulus -> stimulus/15\n",
      "    Renaming event: stimulus -> stimulus/13\n",
      "    Renaming event: stimulus -> stimulus/11\n",
      "    Renaming event: stimulus -> stimulus/13\n",
      "    Renaming event: stimulus -> stimulus/15\n",
      "    Renaming event: stimulus -> stimulus/12\n",
      "    Renaming event: stimulus -> stimulus/15\n",
      "    Renaming event: stimulus -> stimulus/11\n",
      "    Renaming event: stimulus -> stimulus/13\n",
      "    Renaming event: stimulus -> stimulus/13\n",
      "    Renaming event: stimulus -> stimulus/13\n",
      "    Renaming event: stimulus -> stimulus/14\n",
      "    Renaming event: stimulus -> stimulus/14\n",
      "    Renaming event: stimulus -> stimulus/13\n",
      "    Renaming event: stimulus -> stimulus/12\n",
      "    Renaming event: stimulus -> stimulus/51\n",
      "    Renaming event: stimulus -> stimulus/52\n",
      "    Renaming event: stimulus -> stimulus/51\n",
      "    Renaming event: stimulus -> stimulus/55\n",
      "    Renaming event: stimulus -> stimulus/51\n",
      "    Renaming event: stimulus -> stimulus/53\n",
      "    Renaming event: stimulus -> stimulus/54\n",
      "    Renaming event: stimulus -> stimulus/52\n",
      "    Renaming event: stimulus -> stimulus/51\n",
      "    Renaming event: stimulus -> stimulus/51\n",
      "    Renaming event: stimulus -> stimulus/52\n",
      "    Renaming event: stimulus -> stimulus/54\n",
      "    Renaming event: stimulus -> stimulus/52\n",
      "    Renaming event: stimulus -> stimulus/52\n",
      "    Renaming event: stimulus -> stimulus/52\n",
      "    Renaming event: stimulus -> stimulus/54\n",
      "    Renaming event: stimulus -> stimulus/53\n",
      "    Renaming event: stimulus -> stimulus/52\n",
      "    Renaming event: stimulus -> stimulus/52\n",
      "    Renaming event: stimulus -> stimulus/51\n",
      "    Renaming event: stimulus -> stimulus/52\n",
      "    Renaming event: stimulus -> stimulus/52\n",
      "    Renaming event: stimulus -> stimulus/53\n",
      "    Renaming event: stimulus -> stimulus/54\n",
      "    Renaming event: stimulus -> stimulus/55\n",
      "    Renaming event: stimulus -> stimulus/55\n",
      "    Renaming event: stimulus -> stimulus/54\n",
      "    Renaming event: stimulus -> stimulus/54\n",
      "    Renaming event: stimulus -> stimulus/54\n",
      "    Renaming event: stimulus -> stimulus/55\n",
      "    Renaming event: stimulus -> stimulus/55\n",
      "    Renaming event: stimulus -> stimulus/55\n",
      "    Renaming event: stimulus -> stimulus/55\n",
      "    Renaming event: stimulus -> stimulus/55\n",
      "    Renaming event: stimulus -> stimulus/51\n",
      "    Renaming event: stimulus -> stimulus/52\n",
      "    Renaming event: stimulus -> stimulus/52\n",
      "    Renaming event: stimulus -> stimulus/54\n",
      "    Renaming event: stimulus -> stimulus/51\n",
      "    Renaming event: stimulus -> stimulus/53\n",
      "    Renaming event: stimulus -> stimulus/43\n",
      "    Renaming event: stimulus -> stimulus/42\n",
      "    Renaming event: stimulus -> stimulus/41\n",
      "    Renaming event: stimulus -> stimulus/44\n",
      "    Renaming event: stimulus -> stimulus/41\n",
      "    Renaming event: stimulus -> stimulus/42\n",
      "    Renaming event: stimulus -> stimulus/41\n",
      "    Renaming event: stimulus -> stimulus/42\n",
      "    Renaming event: stimulus -> stimulus/41\n",
      "    Renaming event: stimulus -> stimulus/43\n",
      "    Renaming event: stimulus -> stimulus/43\n",
      "    Renaming event: stimulus -> stimulus/43\n",
      "    Renaming event: stimulus -> stimulus/43\n",
      "    Renaming event: stimulus -> stimulus/41\n",
      "    Renaming event: stimulus -> stimulus/43\n",
      "    Renaming event: stimulus -> stimulus/43\n",
      "    Renaming event: stimulus -> stimulus/44\n",
      "    Renaming event: stimulus -> stimulus/43\n",
      "    Renaming event: stimulus -> stimulus/42\n",
      "    Renaming event: stimulus -> stimulus/44\n",
      "    Renaming event: stimulus -> stimulus/41\n",
      "    Renaming event: stimulus -> stimulus/42\n",
      "    Renaming event: stimulus -> stimulus/45\n",
      "    Renaming event: stimulus -> stimulus/42\n",
      "    Renaming event: stimulus -> stimulus/42\n",
      "    Renaming event: stimulus -> stimulus/44\n",
      "    Renaming event: stimulus -> stimulus/44\n",
      "    Renaming event: stimulus -> stimulus/45\n",
      "    Renaming event: stimulus -> stimulus/44\n",
      "    Renaming event: stimulus -> stimulus/41\n",
      "    Renaming event: stimulus -> stimulus/44\n",
      "    Renaming event: stimulus -> stimulus/43\n",
      "    Renaming event: stimulus -> stimulus/42\n",
      "    Renaming event: stimulus -> stimulus/43\n",
      "    Renaming event: stimulus -> stimulus/44\n",
      "    Renaming event: stimulus -> stimulus/42\n",
      "    Renaming event: stimulus -> stimulus/43\n",
      "    Renaming event: stimulus -> stimulus/42\n",
      "    Renaming event: stimulus -> stimulus/42\n",
      "    Renaming event: stimulus -> stimulus/42\n",
      "Reading channel info from /store/data/erp-core/sub-030/ses-P3/eeg/sub-030_ses-P3_task-P3_channels.tsv.\n",
      "Reading 0 ... 393215  =      0.000 ...   383.999 secs...\n"
     ]
    },
    {
     "data": {
      "text/html": [
       "<table class=\"table table-hover table-striped table-sm table-responsive small\">\n",
       "    <tr>\n",
       "        <th>Measurement date</th>\n",
       "        \n",
       "        <td>Unknown</td>\n",
       "        \n",
       "    </tr>\n",
       "    <tr>\n",
       "        <th>Experimenter</th>\n",
       "        \n",
       "        <td>Unknown</td>\n",
       "        \n",
       "    </tr>\n",
       "        <th>Participant</th>\n",
       "        \n",
       "            \n",
       "            <td>sub-030</td>\n",
       "            \n",
       "        \n",
       "    </tr>\n",
       "    <tr>\n",
       "        <th>Digitized points</th>\n",
       "        \n",
       "        <td>33 points</td>\n",
       "        \n",
       "    </tr>\n",
       "    <tr>\n",
       "        <th>Good channels</th>\n",
       "        <td>30 EEG, 3 EOG</td>\n",
       "    </tr>\n",
       "    <tr>\n",
       "        <th>Bad channels</th>\n",
       "        <td>None</td>\n",
       "    </tr>\n",
       "    <tr>\n",
       "        <th>EOG channels</th>\n",
       "        <td>HEOG_left, HEOG_right, VEOG_lower</td>\n",
       "    </tr>\n",
       "    <tr>\n",
       "        <th>ECG channels</th>\n",
       "        <td>Not available</td>\n",
       "    \n",
       "    <tr>\n",
       "        <th>Sampling frequency</th>\n",
       "        <td>1024.00 Hz</td>\n",
       "    </tr>\n",
       "    \n",
       "    \n",
       "    <tr>\n",
       "        <th>Highpass</th>\n",
       "        <td>0.00 Hz</td>\n",
       "    </tr>\n",
       "    \n",
       "    \n",
       "    <tr>\n",
       "        <th>Lowpass</th>\n",
       "        <td>512.00 Hz</td>\n",
       "    </tr>\n",
       "    \n",
       "    \n",
       "    \n",
       "    <tr>\n",
       "        <th>Filenames</th>\n",
       "        <td>sub-030_ses-P3_task-P3_eeg.fdt</td>\n",
       "    </tr>\n",
       "    \n",
       "    <tr>\n",
       "        <th>Duration</th>\n",
       "        <td>00:06:24 (HH:MM:SS)</td>\n",
       "    </tr>\n",
       "</table>"
      ],
      "text/plain": [
       "<RawEEGLAB | sub-030_ses-P3_task-P3_eeg.fdt, 33 x 393216 (384.0 s), ~99.0 MB, data loaded>"
      ]
     },
     "execution_count": 3,
     "metadata": {},
     "output_type": "execute_result"
    }
   ],
   "source": [
    "import mne, mne_bids, ccs_eeg_utils\n",
    "\n",
    "#Load the data\n",
    "from mne_bids import (BIDSPath, read_raw_bids)\n",
    "\n",
    "#path where to save the datasets.\n",
    "#bids_root = \"../../local/bids\" # recommended data location\n",
    "#bids_root = \"/bigpool/export/users/ehinger/erp-core/bids\" # Bene's Server location\n",
    "bids_root = \"/store/data/erp-core/\"\n",
    "subject_id = '030' # recommend subject 30 for now\n",
    "\n",
    "\n",
    "bids_path = BIDSPath(subject=subject_id,task=\"P3\",session=\"P3\",\n",
    "                     datatype='eeg', suffix='eeg',\n",
    "                     root=bids_root)\n",
    "\n",
    "#read the file\n",
    "raw = read_raw_bids(bids_path)\n",
    "#fix the annotations readin\n",
    "ccs_eeg_utils.read_annotations_core(bids_path,raw)\n",
    "raw.load_data()"
   ]
  },
  {
   "attachments": {},
   "cell_type": "markdown",
   "metadata": {},
   "source": [
    "**T:** Extract a single channel and plot the whole timeseries. You can directly interact with the `raw` object, e.g. `raw[1:10,1:2000]` extracts the first 10 channels and 2000 samples.\n"
   ]
  },
  {
   "cell_type": "code",
   "execution_count": 10,
   "metadata": {},
   "outputs": [],
   "source": [
    "from matplotlib import pyplot as plt\n",
    "eeg, t = raw[10,:]\n",
    "plt.plot(eeg[0,0:1000])"
   ]
  },
  {
   "cell_type": "code",
   "execution_count": 19,
   "metadata": {},
   "outputs": [
    {
     "name": "stdout",
     "output_type": "stream",
     "text": [
      "Using qt as 2D backend.\n"
     ]
    },
    {
     "data": {
      "text/plain": [
       "<mne_qt_browser._pg_figure.MNEQtBrowser at 0x7f6ccdfbc8b0>"
      ]
     },
     "execution_count": 19,
     "metadata": {},
     "output_type": "execute_result"
    },
    {
     "name": "stdout",
     "output_type": "stream",
     "text": [
      "Channels marked as bad:\n",
      "none\n"
     ]
    }
   ],
   "source": [
    "raw.plot(duration=5)"
   ]
  },
  {
   "attachments": {},
   "cell_type": "markdown",
   "metadata": {},
   "source": [
    "**Q:** What is the unit/scale of the data?\n",
    "0.01V = 10000 µV\n",
    "\n",
    "**T:** Have a look at `raw.info` and note down what the sampling frequency is (how many EEG-samples per second): 1024Hz"
   ]
  },
  {
   "attachments": {},
   "cell_type": "markdown",
   "metadata": {},
   "source": [
    "**T:** We will epoch the data now. Formost we will cut the raw data to one channel using `raw.pick([\"Cz\"])` - not that this will permanently change the \"raw\" object and \"deletes\" alle other channels from memory. If you want rather a copy you could use `raw_subselect = raw.copy().pick([\"Cz\"]))`.\n"
   ]
  },
  {
   "cell_type": "code",
   "execution_count": null,
   "metadata": {},
   "outputs": [],
   "source": [
    "raw.info"
   ]
  },
  {
   "cell_type": "code",
   "execution_count": 20,
   "metadata": {},
   "outputs": [
    {
     "data": {
      "text/plain": [
       "[<matplotlib.lines.Line2D at 0x7f6cc5367e80>]"
      ]
     },
     "execution_count": 20,
     "metadata": {},
     "output_type": "execute_result"
    },
    {
     "data": {
      "image/png": "[encoded data removed]",
      "text/plain": [
       "<Figure size 640x480 with 1 Axes>"
      ]
     },
     "metadata": {},
     "output_type": "display_data"
    }
   ],
   "source": [
    "raw.pick([\"Oz\"])\n",
    "plt.plot(raw[:,:][0].T)"
   ]
  },
  {
   "cell_type": "code",
   "execution_count": 21,
   "metadata": {},
   "outputs": [
    {
     "name": "stdout",
     "output_type": "stream",
     "text": [
      "Used Annotations descriptions: ['response:201', 'response:202', 'stimulus:11', 'stimulus:12', 'stimulus:13', 'stimulus:14', 'stimulus:15', 'stimulus:21', 'stimulus:22', 'stimulus:23', 'stimulus:24', 'stimulus:25', 'stimulus:31', 'stimulus:32', 'stimulus:33', 'stimulus:34', 'stimulus:35', 'stimulus:41', 'stimulus:42', 'stimulus:43', 'stimulus:44', 'stimulus:45', 'stimulus:51', 'stimulus:52', 'stimulus:53', 'stimulus:54', 'stimulus:55']\n"
     ]
    },
    {
     "data": {
      "text/plain": [
       "{'response:201': 1,\n",
       " 'response:202': 2,\n",
       " 'stimulus:11': 3,\n",
       " 'stimulus:12': 4,\n",
       " 'stimulus:13': 5,\n",
       " 'stimulus:14': 6,\n",
       " 'stimulus:15': 7,\n",
       " 'stimulus:21': 8,\n",
       " 'stimulus:22': 9,\n",
       " 'stimulus:23': 10,\n",
       " 'stimulus:24': 11,\n",
       " 'stimulus:25': 12,\n",
       " 'stimulus:31': 13,\n",
       " 'stimulus:32': 14,\n",
       " 'stimulus:33': 15,\n",
       " 'stimulus:34': 16,\n",
       " 'stimulus:35': 17,\n",
       " 'stimulus:41': 18,\n",
       " 'stimulus:42': 19,\n",
       " 'stimulus:43': 20,\n",
       " 'stimulus:44': 21,\n",
       " 'stimulus:45': 22,\n",
       " 'stimulus:51': 23,\n",
       " 'stimulus:52': 24,\n",
       " 'stimulus:53': 25,\n",
       " 'stimulus:54': 26,\n",
       " 'stimulus:55': 27}"
      ]
     },
     "execution_count": 21,
     "metadata": {},
     "output_type": "execute_result"
    }
   ],
   "source": [
    "evts,evts_dict = mne.events_from_annotations(raw)\n",
    "evts_dict"
   ]
  },
  {
   "cell_type": "code",
   "execution_count": 22,
   "metadata": {},
   "outputs": [],
   "source": [
    "wanted_keys = [e for e in evts_dict.keys() if \"stimulus\" in e]"
   ]
  },
  {
   "cell_type": "code",
   "execution_count": 23,
   "metadata": {},
   "outputs": [
    {
     "data": {
      "text/plain": [
       "{'stimulus:11': 3,\n",
       " 'stimulus:12': 4,\n",
       " 'stimulus:13': 5,\n",
       " 'stimulus:14': 6,\n",
       " 'stimulus:15': 7,\n",
       " 'stimulus:21': 8,\n",
       " 'stimulus:22': 9,\n",
       " 'stimulus:23': 10,\n",
       " 'stimulus:24': 11,\n",
       " 'stimulus:25': 12,\n",
       " 'stimulus:31': 13,\n",
       " 'stimulus:32': 14,\n",
       " 'stimulus:33': 15,\n",
       " 'stimulus:34': 16,\n",
       " 'stimulus:35': 17,\n",
       " 'stimulus:41': 18,\n",
       " 'stimulus:42': 19,\n",
       " 'stimulus:43': 20,\n",
       " 'stimulus:44': 21,\n",
       " 'stimulus:45': 22,\n",
       " 'stimulus:51': 23,\n",
       " 'stimulus:52': 24,\n",
       " 'stimulus:53': 25,\n",
       " 'stimulus:54': 26,\n",
       " 'stimulus:55': 27}"
      ]
     },
     "execution_count": 23,
     "metadata": {},
     "output_type": "execute_result"
    }
   ],
   "source": [
    "evts_dict_stim=dict((k, evts_dict[k]) for k in wanted_keys if k in evts_dict)\n",
    "evts_dict_stim"
   ]
  },
  {
   "attachments": {},
   "cell_type": "markdown",
   "metadata": {},
   "source": [
    "**T:** MNE-speciality: We have to convert annotations to events "
   ]
  },
  {
   "cell_type": "code",
   "execution_count": 24,
   "metadata": {},
   "outputs": [
    {
     "name": "stdout",
     "output_type": "stream",
     "text": [
      "Used Annotations descriptions: ['response:201', 'response:202', 'stimulus:11', 'stimulus:12', 'stimulus:13', 'stimulus:14', 'stimulus:15', 'stimulus:21', 'stimulus:22', 'stimulus:23', 'stimulus:24', 'stimulus:25', 'stimulus:31', 'stimulus:32', 'stimulus:33', 'stimulus:34', 'stimulus:35', 'stimulus:41', 'stimulus:42', 'stimulus:43', 'stimulus:44', 'stimulus:45', 'stimulus:51', 'stimulus:52', 'stimulus:53', 'stimulus:54', 'stimulus:55']\n",
      "Not setting metadata\n",
      "200 matching events found\n",
      "Setting baseline interval to [-0.099609375, 0.0] s\n",
      "Applying baseline correction (mode: mean)\n",
      "0 projection items activated\n"
     ]
    }
   ],
   "source": [
    "import mne\n",
    "evts,evts_dict = mne.events_from_annotations(raw)\n",
    "wanted_keys = [e for e in evts_dict.keys() if \"stimulus\" in e]\n",
    "evts_dict_stim=dict((k, evts_dict[k]) for k in wanted_keys if k in evts_dict)\n",
    "\n",
    "\n",
    "epochs = mne.Epochs(raw,evts,evts_dict_stim,tmin=-0.1,tmax=1)"
   ]
  },
  {
   "cell_type": "code",
   "execution_count": 25,
   "metadata": {},
   "outputs": [
    {
     "data": {
      "text/html": [
       "<table class=\"table table-hover table-striped table-sm table-responsive small\">\n",
       "    <tr>\n",
       "        <th>Number of events</th>\n",
       "        <td>200</td>\n",
       "    </tr>\n",
       "    <tr>\n",
       "        <th>Events</th>\n",
       "        \n",
       "        <td>stimulus:11: 8<br/>stimulus:12: 4<br/>stimulus:13: 10<br/>stimulus:14: 9<br/>stimulus:15: 9<br/>stimulus:21: 6<br/>stimulus:22: 8<br/>stimulus:23: 12<br/>stimulus:24: 3<br/>stimulus:25: 11<br/>stimulus:31: 8<br/>stimulus:32: 10<br/>stimulus:33: 8<br/>stimulus:34: 4<br/>stimulus:35: 10<br/>stimulus:41: 7<br/>stimulus:42: 12<br/>stimulus:43: 11<br/>stimulus:44: 8<br/>stimulus:45: 2<br/>stimulus:51: 8<br/>stimulus:52: 12<br/>stimulus:53: 4<br/>stimulus:54: 8<br/>stimulus:55: 8</td>\n",
       "        \n",
       "    </tr>\n",
       "    <tr>\n",
       "        <th>Time range</th>\n",
       "        <td>-0.100 – 1.000 s</td>\n",
       "    </tr>\n",
       "    <tr>\n",
       "        <th>Baseline</th>\n",
       "        <td>-0.100 – 0.000 s</td>\n",
       "    </tr>\n",
       "</table>"
      ],
      "text/plain": [
       "<Epochs |  200 events (good & bad), -0.0996094 – 1 s, baseline -0.0996094 – 0 s, ~21 kB, data not loaded,\n",
       " 'stimulus:11': 8\n",
       " 'stimulus:12': 4\n",
       " 'stimulus:13': 10\n",
       " 'stimulus:14': 9\n",
       " 'stimulus:15': 9\n",
       " 'stimulus:21': 6\n",
       " 'stimulus:22': 8\n",
       " 'stimulus:23': 12\n",
       " 'stimulus:24': 3\n",
       " 'stimulus:25': 11\n",
       " and 15 more events ...>"
      ]
     },
     "execution_count": 25,
     "metadata": {},
     "output_type": "execute_result"
    }
   ],
   "source": [
    "epochs"
   ]
  },
  {
   "attachments": {},
   "cell_type": "markdown",
   "metadata": {},
   "source": [
    "**T** Now that we have the epochs we should plot them. Plot all trials 'manually', without using mne's functionality (`epochs.get_data()`).\n",
    "\n",
    "**Q** What is the unit/scale of the data now?: 0.0001 V = 100µV"
   ]
  },
  {
   "cell_type": "code",
   "execution_count": 27,
   "metadata": {},
   "outputs": [
    {
     "name": "stdout",
     "output_type": "stream",
     "text": [
      "Using data from preloaded Raw for 200 events and 1127 original time points ...\n"
     ]
    },
    {
     "data": {
      "text/plain": [
       "[<matplotlib.lines.Line2D at 0x7f6cbf3ecd90>]"
      ]
     },
     "execution_count": 27,
     "metadata": {},
     "output_type": "execute_result"
    },
    {
     "data": {
      "image/png": "[encoded data removed]",
      "text/plain": [
       "<Figure size 640x480 with 1 Axes>"
      ]
     },
     "metadata": {},
     "output_type": "display_data"
    }
   ],
   "source": [
    "import numpy as np\n",
    "#plt.plot(np.squeeze(epochs.get_data()[:,0,:].T))\n",
    "plt.plot(np.squeeze(epochs.get_data()[:,0,:].T).mean(axis=1),color=\"black\")\n"
   ]
  },
  {
   "attachments": {},
   "cell_type": "markdown",
   "metadata": {},
   "source": [
    "Now index the epochs `evoked = epochs[index].average()` and average them. You can then plot them either via `evoked.plot()` or with `mne.viz.plot_compare_evokeds([evokedA,evokedB])`."
   ]
  },
  {
   "cell_type": "code",
   "execution_count": 28,
   "metadata": {},
   "outputs": [
    {
     "name": "stdout",
     "output_type": "stream",
     "text": [
      "NOTE: pick_channels() is a legacy function. New code should use inst.pick(...).\n",
      "NOTE: pick_channels() is a legacy function. New code should use inst.pick(...).\n"
     ]
    },
    {
     "name": "stderr",
     "output_type": "stream",
     "text": [
      "/tmp/ipykernel_1145118/86118832.py:3: RuntimeWarning: Cannot find channel coordinates in the supplied Evokeds. Not showing channel locations.\n",
      "  mne.viz.plot_compare_evokeds([target,distractor]);\n"
     ]
    },
    {
     "data": {
      "image/png": "[encoded data removed]",
      "text/plain": [
       "<Figure size 800x600 with 1 Axes>"
      ]
     },
     "metadata": {},
     "output_type": "display_data"
    }
   ],
   "source": [
    "target = epochs[[\"stimulus:{}{}\".format(k,k) for k in [1,2,3,4,5]]].average()\n",
    "distractor = epochs[[\"stimulus:{}{}\".format(k,j) for k in [1,2,3,4,5] for j in [1,2,3,4,5] if k!=j]].average()\n",
    "mne.viz.plot_compare_evokeds([target,distractor]);"
   ]
  },
  {
   "attachments": {},
   "cell_type": "markdown",
   "metadata": {},
   "source": [
    "                                                                                                **Q** What is the unit/scale of the data now? Set it into context to the other two scales you reported (**Q**'s higher up). \n",
    "\n",
    "20µV. So we went from 20.000µV to 100µV to 20µV\n"
   ]
  },
  {
   "attachments": {},
   "cell_type": "markdown",
   "metadata": {},
   "source": []
  },
  {
   "cell_type": "markdown",
   "metadata": {},
   "source": []
  }
 ],
 "metadata": {
  "interpreter": {
   "hash": "56a6161416acfb76e6db81e64cac8eac09182ae43c6b86946f447d5ad6609da1"
  },
  "kernelspec": {
   "display_name": "Python 3.8.5 64-bit ('base': conda)",
   "language": "python",
   "name": "python3"
  },
  "language_info": {
   "codemirror_mode": {
    "name": "ipython",
    "version": 3
   },
   "file_extension": ".py",
   "mimetype": "text/x-python",
   "name": "python",
   "nbconvert_exporter": "python",
   "pygments_lexer": "ipython3",
   "version": "3.10.12"
  },
  "metadata": {
   "interpreter": {
    "hash": "5f7a92ecd54a33936feea730dc013475179ab03cbecc5bc23f3346afaf26649b"
   }
  },
  "orig_nbformat": 2
 },
 "nbformat": 4,
 "nbformat_minor": 2
}
